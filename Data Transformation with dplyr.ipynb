{
 "cells": [
  {
   "cell_type": "markdown",
   "metadata": {},
   "source": [
    "# Functions for Data Frame Manipulation\n",
    "\n",
    "#### arrange; select; filter; mutate; summarise; rename; group_by\n",
    "\n",
    "#### base\n",
    "sort(), order()\n",
    "\n",
    "#### plyr\n",
    "arrange(): sort a dataframe by its columns\n",
    "\n",
    "mutate(): add new columns or replace existing columns\n",
    "\n",
    "#### dplyr\n",
    "group_by(): group data by columns\n",
    "\n",
    "select(): select columns by name and keep\n",
    "\n",
    "filter(): select rows satisfying certain conditions\n",
    "\n",
    "rename(): rename columns\n",
    "\n",
    "n_distinct(): count number of distinct values"
   ]
  },
  {
   "cell_type": "markdown",
   "metadata": {},
   "source": [
    "## sort {base}\n",
    "Sort a vector into ascending ir descending order.\n",
    "\n",
    "Syntax: sort(x, decresing=FALSE)"
   ]
  },
  {
   "cell_type": "code",
   "execution_count": 12,
   "metadata": {
    "collapsed": false
   },
   "outputs": [
    {
     "data": {
      "text/html": [
       "<ol class=list-inline>\n",
       "\t<li>10</li>\n",
       "\t<li>7</li>\n",
       "\t<li>5</li>\n",
       "\t<li>4</li>\n",
       "\t<li>3</li>\n",
       "\t<li>2</li>\n",
       "\t<li>1</li>\n",
       "</ol>\n"
      ],
      "text/latex": [
       "\\begin{enumerate*}\n",
       "\\item 10\n",
       "\\item 7\n",
       "\\item 5\n",
       "\\item 4\n",
       "\\item 3\n",
       "\\item 2\n",
       "\\item 1\n",
       "\\end{enumerate*}\n"
      ],
      "text/markdown": [
       "1. 10\n",
       "2. 7\n",
       "3. 5\n",
       "4. 4\n",
       "5. 3\n",
       "6. 2\n",
       "7. 1\n",
       "\n",
       "\n"
      ],
      "text/plain": [
       "[1] 10  7  5  4  3  2  1"
      ]
     },
     "metadata": {},
     "output_type": "display_data"
    }
   ],
   "source": [
    "# Example 1\n",
    "\n",
    "v = c(4:5, 7, 1:3, 10)\n",
    "sort(v, decreasing = TRUE)"
   ]
  },
  {
   "cell_type": "markdown",
   "metadata": {},
   "source": [
    "## order {base}\n",
    "\n",
    "Returns a permutation of index which can rearrange its first argument into ascending or descending order.\n",
    "\n",
    "Syntax: order(x, descreasing=FALSE)\n",
    "\n",
    "Note: Sort(x) is the same as x[order(x)]"
   ]
  },
  {
   "cell_type": "code",
   "execution_count": 23,
   "metadata": {
    "collapsed": false
   },
   "outputs": [
    {
     "name": "stdout",
     "output_type": "stream",
     "text": [
      "[1] \"Index\"\n"
     ]
    },
    {
     "data": {
      "text/html": [
       "<ol class=list-inline>\n",
       "\t<li>5</li>\n",
       "\t<li>4</li>\n",
       "\t<li>3</li>\n",
       "\t<li>2</li>\n",
       "\t<li>1</li>\n",
       "\t<li>6</li>\n",
       "\t<li>7</li>\n",
       "\t<li>8</li>\n",
       "\t<li>12</li>\n",
       "\t<li>11</li>\n",
       "\t<li>10</li>\n",
       "\t<li>9</li>\n",
       "</ol>\n"
      ],
      "text/latex": [
       "\\begin{enumerate*}\n",
       "\\item 5\n",
       "\\item 4\n",
       "\\item 3\n",
       "\\item 2\n",
       "\\item 1\n",
       "\\item 6\n",
       "\\item 7\n",
       "\\item 8\n",
       "\\item 12\n",
       "\\item 11\n",
       "\\item 10\n",
       "\\item 9\n",
       "\\end{enumerate*}\n"
      ],
      "text/markdown": [
       "1. 5\n",
       "2. 4\n",
       "3. 3\n",
       "4. 2\n",
       "5. 1\n",
       "6. 6\n",
       "7. 7\n",
       "8. 8\n",
       "9. 12\n",
       "10. 11\n",
       "11. 10\n",
       "12. 9\n",
       "\n",
       "\n"
      ],
      "text/plain": [
       " [1]  5  4  3  2  1  6  7  8 12 11 10  9"
      ]
     },
     "metadata": {},
     "output_type": "display_data"
    },
    {
     "name": "stdout",
     "output_type": "stream",
     "text": [
      "[1] \"Values\"\n"
     ]
    },
    {
     "data": {
      "text/html": [
       "<ol class=list-inline>\n",
       "\t<li>1</li>\n",
       "\t<li>2</li>\n",
       "\t<li>3</li>\n",
       "\t<li>4</li>\n",
       "\t<li>5</li>\n",
       "\t<li>6</li>\n",
       "\t<li>7</li>\n",
       "\t<li>8</li>\n",
       "\t<li>9</li>\n",
       "\t<li>10</li>\n",
       "\t<li>11</li>\n",
       "\t<li>12</li>\n",
       "</ol>\n"
      ],
      "text/latex": [
       "\\begin{enumerate*}\n",
       "\\item 1\n",
       "\\item 2\n",
       "\\item 3\n",
       "\\item 4\n",
       "\\item 5\n",
       "\\item 6\n",
       "\\item 7\n",
       "\\item 8\n",
       "\\item 9\n",
       "\\item 10\n",
       "\\item 11\n",
       "\\item 12\n",
       "\\end{enumerate*}\n"
      ],
      "text/markdown": [
       "1. 1\n",
       "2. 2\n",
       "3. 3\n",
       "4. 4\n",
       "5. 5\n",
       "6. 6\n",
       "7. 7\n",
       "8. 8\n",
       "9. 9\n",
       "10. 10\n",
       "11. 11\n",
       "12. 12\n",
       "\n",
       "\n"
      ],
      "text/plain": [
       " [1]  1  2  3  4  5  6  7  8  9 10 11 12"
      ]
     },
     "metadata": {},
     "output_type": "display_data"
    },
    {
     "name": "stdout",
     "output_type": "stream",
     "text": [
      "[1] \"Sort\"\n"
     ]
    },
    {
     "data": {
      "text/html": [
       "<ol class=list-inline>\n",
       "\t<li>1</li>\n",
       "\t<li>2</li>\n",
       "\t<li>3</li>\n",
       "\t<li>4</li>\n",
       "\t<li>5</li>\n",
       "\t<li>6</li>\n",
       "\t<li>7</li>\n",
       "\t<li>8</li>\n",
       "\t<li>9</li>\n",
       "\t<li>10</li>\n",
       "\t<li>11</li>\n",
       "\t<li>12</li>\n",
       "</ol>\n"
      ],
      "text/latex": [
       "\\begin{enumerate*}\n",
       "\\item 1\n",
       "\\item 2\n",
       "\\item 3\n",
       "\\item 4\n",
       "\\item 5\n",
       "\\item 6\n",
       "\\item 7\n",
       "\\item 8\n",
       "\\item 9\n",
       "\\item 10\n",
       "\\item 11\n",
       "\\item 12\n",
       "\\end{enumerate*}\n"
      ],
      "text/markdown": [
       "1. 1\n",
       "2. 2\n",
       "3. 3\n",
       "4. 4\n",
       "5. 5\n",
       "6. 6\n",
       "7. 7\n",
       "8. 8\n",
       "9. 9\n",
       "10. 10\n",
       "11. 11\n",
       "12. 12\n",
       "\n",
       "\n"
      ],
      "text/plain": [
       " [1]  1  2  3  4  5  6  7  8  9 10 11 12"
      ]
     },
     "metadata": {},
     "output_type": "display_data"
    }
   ],
   "source": [
    "# Example 1\n",
    "x = c(5:1, 6:8, 12:9)\n",
    "print(\"Index\")\n",
    "order(x)\n",
    "print(\"Values\")\n",
    "x[order(x)]\n",
    "print(\"Sort\")\n",
    "sort(x)"
   ]
  },
  {
   "cell_type": "markdown",
   "metadata": {},
   "source": [
    "## Data Transformation with dplyr"
   ]
  },
  {
   "cell_type": "markdown",
   "metadata": {},
   "source": [
    "### TYPE OF VARIABLES\n",
    "int: integers\n",
    "\n",
    "dbl: doubles, or real numbers\n",
    "\n",
    "chr: character, or strings\n",
    "\n",
    "dttm: date-times\n",
    "\n",
    "lgl: logical, vectors that contain only TRUE or FALSE\n",
    "\n",
    "fctr: factors, which R uses to represent categorical variables with fixed possible values \n",
    "\n",
    "date: dates"
   ]
  },
  {
   "cell_type": "markdown",
   "metadata": {},
   "source": [
    "### FIVE KEY FUNCTIONS IN DPLYR\n",
    "The following takes a data frame as input and returns a new data frame. Note that dplyr functions never modify its input, so if you want to save the result, use assignment operators.\n",
    "\n",
    "#### mutate()\n",
    "Create new variables/columns with functions of existing variables\n",
    "#### summarise()\n",
    "Collapse many values down to a singel summary\n",
    "#### arrange()\n",
    "Reorder rows by a column\n",
    "#### select()\n",
    "Pick variables/columns by their name\n",
    "#### filter()\n",
    "Pick observations by their values\n",
    "#### group_by()\n",
    "All the above functions can be conjunction with group_by."
   ]
  },
  {
   "cell_type": "markdown",
   "metadata": {},
   "source": [
    "### NOTE\n",
    "1. R either print out the results, or save them to a variable. If you want to do both, you can wrap the assignment in parenthese. \n",
    "\n",
    "2. Missing values \"NA\" are contagious: almost any operation involving unknown values will also be unknown."
   ]
  },
  {
   "cell_type": "markdown",
   "metadata": {
    "collapsed": true
   },
   "source": [
    "## arrange {plyr}\n",
    "\n",
    "Sort a data frame by its columns. \n",
    "\n",
    "Syntax: arrange(df, desc(col))\n",
    "\n",
    "desc: specifying whether the dataframe should be sorted in asceding or descending order.\n",
    "\n",
    "#### Note: \n",
    "\n",
    "Sort and Order is for vectors, and arrange is for dataframes.\n",
    "\n",
    "It takes a data frame and a set of column names to order by. If more than one column names are provided, each additional column will be used to break ties in the values of preceding columns.\n",
    "\n",
    "Missing values are always sorted at the end."
   ]
  },
  {
   "cell_type": "code",
   "execution_count": 5,
   "metadata": {
    "collapsed": false
   },
   "outputs": [
    {
     "name": "stdout",
     "output_type": "stream",
     "text": [
      "  Letters Numbers\n",
      "1       A       1\n",
      "2       B       2\n",
      "3       C       3\n"
     ]
    },
    {
     "data": {
      "text/html": [
       "<table>\n",
       "<thead><tr><th scope=col>Letters</th><th scope=col>Numbers</th></tr></thead>\n",
       "<tbody>\n",
       "\t<tr><td>C</td><td>3</td></tr>\n",
       "\t<tr><td>B</td><td>2</td></tr>\n",
       "\t<tr><td>A</td><td>1</td></tr>\n",
       "</tbody>\n",
       "</table>\n"
      ],
      "text/latex": [
       "\\begin{tabular}{r|ll}\n",
       " Letters & Numbers\\\\\n",
       "\\hline\n",
       "\t C & 3\\\\\n",
       "\t B & 2\\\\\n",
       "\t A & 1\\\\\n",
       "\\end{tabular}\n"
      ],
      "text/markdown": [
       "\n",
       "Letters | Numbers | \n",
       "|---|---|---|\n",
       "| C | 3 | \n",
       "| B | 2 | \n",
       "| A | 1 | \n",
       "\n",
       "\n"
      ],
      "text/plain": [
       "  Letters Numbers\n",
       "1 C       3      \n",
       "2 B       2      \n",
       "3 A       1      "
      ]
     },
     "metadata": {},
     "output_type": "display_data"
    }
   ],
   "source": [
    "# Example 1\n",
    "df = data.frame(Letters=LETTERS[1:3], Numbers=1:3)\n",
    "print(df)\n",
    "\n",
    "library(plyr)\n",
    "(df.new = arrange(df, desc(Numbers)))"
   ]
  },
  {
   "cell_type": "markdown",
   "metadata": {},
   "source": [
    "## mutate {plyr} transmute {dplyr}\n",
    "\n",
    "Mutate a data frame by adding new or replacing existing columns.\n",
    "\n",
    "Syntax: mutate(.data, ...)\n",
    "\n",
    ".data: the dataframe to transform\n",
    "\n",
    "...: give definitions of new columns\n",
    "\n",
    "#### usefull creation functions with mutate\n",
    "The key property of these functions must be vectorized: Takes a vector of values as input, and returns a vector with same number of values as output. \n",
    "\n",
    "Arithmatic operators: + - * / ^\n",
    "\n",
    "Modular arithmatic: %/% (integer division) and %% (remainder)\n",
    "\n",
    "Logs: log(), log2(), log10()\n",
    "\n",
    "Offsets: lead() lag()\n",
    "\n",
    "Cumulative and rolling aggregates: cumsum(), cumprod(), cummax(), cummin(), and dplyr::cummean()\n",
    "\n",
    "Logical Operations: <,>,>=,<=,!=\n",
    "\n",
    "Ranking: min_rank(x), min_rank(desc(x))\n",
    "\n",
    "#### Note:\n",
    "mutate() always add new columns at the end of your datasets.\n",
    "\n",
    "If you just wat to keep the new variables, use transmute()."
   ]
  },
  {
   "cell_type": "code",
   "execution_count": 23,
   "metadata": {
    "collapsed": false
   },
   "outputs": [
    {
     "name": "stdout",
     "output_type": "stream",
     "text": [
      " [1]  2  3  4  5  6  7  8  9 10 NA\n",
      " [1] NA  1  2  3  4  5  6  7  8  9\n"
     ]
    }
   ],
   "source": [
    "x = 1:10 \n",
    "print( lead(x) )\n",
    "print( lag(x) )"
   ]
  },
  {
   "cell_type": "code",
   "execution_count": 19,
   "metadata": {
    "collapsed": false,
    "scrolled": true
   },
   "outputs": [
    {
     "name": "stdout",
     "output_type": "stream",
     "text": [
      "[1] \"Gapminder\"\n"
     ]
    },
    {
     "data": {
      "text/html": [
       "<table>\n",
       "<thead><tr><th scope=col>country</th><th scope=col>continent</th><th scope=col>year</th><th scope=col>lifeExp</th><th scope=col>pop</th><th scope=col>gdpPercap</th></tr></thead>\n",
       "<tbody>\n",
       "\t<tr><td>Afghanistan</td><td>Asia       </td><td>1952       </td><td>28.801     </td><td> 8425333   </td><td>779.4453   </td></tr>\n",
       "\t<tr><td>Afghanistan</td><td>Asia       </td><td>1957       </td><td>30.332     </td><td> 9240934   </td><td>820.8530   </td></tr>\n",
       "\t<tr><td>Afghanistan</td><td>Asia       </td><td>1962       </td><td>31.997     </td><td>10267083   </td><td>853.1007   </td></tr>\n",
       "</tbody>\n",
       "</table>\n"
      ],
      "text/latex": [
       "\\begin{tabular}{r|llllll}\n",
       " country & continent & year & lifeExp & pop & gdpPercap\\\\\n",
       "\\hline\n",
       "\t Afghanistan & Asia        & 1952        & 28.801      &  8425333    & 779.4453   \\\\\n",
       "\t Afghanistan & Asia        & 1957        & 30.332      &  9240934    & 820.8530   \\\\\n",
       "\t Afghanistan & Asia        & 1962        & 31.997      & 10267083    & 853.1007   \\\\\n",
       "\\end{tabular}\n"
      ],
      "text/markdown": [
       "\n",
       "country | continent | year | lifeExp | pop | gdpPercap | \n",
       "|---|---|---|\n",
       "| Afghanistan | Asia        | 1952        | 28.801      |  8425333    | 779.4453    | \n",
       "| Afghanistan | Asia        | 1957        | 30.332      |  9240934    | 820.8530    | \n",
       "| Afghanistan | Asia        | 1962        | 31.997      | 10267083    | 853.1007    | \n",
       "\n",
       "\n"
      ],
      "text/plain": [
       "  country     continent year lifeExp pop      gdpPercap\n",
       "1 Afghanistan Asia      1952 28.801   8425333 779.4453 \n",
       "2 Afghanistan Asia      1957 30.332   9240934 820.8530 \n",
       "3 Afghanistan Asia      1962 31.997  10267083 853.1007 "
      ]
     },
     "metadata": {},
     "output_type": "display_data"
    },
    {
     "data": {
      "text/html": [
       "<table>\n",
       "<thead><tr><th scope=col>country</th><th scope=col>continent</th><th scope=col>year</th><th scope=col>lifeExp</th><th scope=col>pop</th><th scope=col>gdpPercap</th><th scope=col>gdp</th></tr></thead>\n",
       "<tbody>\n",
       "\t<tr><td>Afghanistan</td><td>Asia       </td><td>1952       </td><td>28.801     </td><td> 8425333   </td><td>779.4453   </td><td>6567086330 </td></tr>\n",
       "\t<tr><td>Afghanistan</td><td>Asia       </td><td>1957       </td><td>30.332     </td><td> 9240934   </td><td>820.8530   </td><td>7585448670 </td></tr>\n",
       "\t<tr><td>Afghanistan</td><td>Asia       </td><td>1962       </td><td>31.997     </td><td>10267083   </td><td>853.1007   </td><td>8758855797 </td></tr>\n",
       "</tbody>\n",
       "</table>\n"
      ],
      "text/latex": [
       "\\begin{tabular}{r|lllllll}\n",
       " country & continent & year & lifeExp & pop & gdpPercap & gdp\\\\\n",
       "\\hline\n",
       "\t Afghanistan & Asia        & 1952        & 28.801      &  8425333    & 779.4453    & 6567086330 \\\\\n",
       "\t Afghanistan & Asia        & 1957        & 30.332      &  9240934    & 820.8530    & 7585448670 \\\\\n",
       "\t Afghanistan & Asia        & 1962        & 31.997      & 10267083    & 853.1007    & 8758855797 \\\\\n",
       "\\end{tabular}\n"
      ],
      "text/markdown": [
       "\n",
       "country | continent | year | lifeExp | pop | gdpPercap | gdp | \n",
       "|---|---|---|\n",
       "| Afghanistan | Asia        | 1952        | 28.801      |  8425333    | 779.4453    | 6567086330  | \n",
       "| Afghanistan | Asia        | 1957        | 30.332      |  9240934    | 820.8530    | 7585448670  | \n",
       "| Afghanistan | Asia        | 1962        | 31.997      | 10267083    | 853.1007    | 8758855797  | \n",
       "\n",
       "\n"
      ],
      "text/plain": [
       "  country     continent year lifeExp pop      gdpPercap gdp       \n",
       "1 Afghanistan Asia      1952 28.801   8425333 779.4453  6567086330\n",
       "2 Afghanistan Asia      1957 30.332   9240934 820.8530  7585448670\n",
       "3 Afghanistan Asia      1962 31.997  10267083 853.1007  8758855797"
      ]
     },
     "metadata": {},
     "output_type": "display_data"
    },
    {
     "data": {
      "text/html": [
       "<table>\n",
       "<thead><tr><th scope=col>gdp</th></tr></thead>\n",
       "<tbody>\n",
       "\t<tr><td>6567086330</td></tr>\n",
       "\t<tr><td>7585448670</td></tr>\n",
       "\t<tr><td>8758855797</td></tr>\n",
       "</tbody>\n",
       "</table>\n"
      ],
      "text/latex": [
       "\\begin{tabular}{r|l}\n",
       " gdp\\\\\n",
       "\\hline\n",
       "\t 6567086330\\\\\n",
       "\t 7585448670\\\\\n",
       "\t 8758855797\\\\\n",
       "\\end{tabular}\n"
      ],
      "text/markdown": [
       "\n",
       "gdp | \n",
       "|---|---|---|\n",
       "| 6567086330 | \n",
       "| 7585448670 | \n",
       "| 8758855797 | \n",
       "\n",
       "\n"
      ],
      "text/plain": [
       "  gdp       \n",
       "1 6567086330\n",
       "2 7585448670\n",
       "3 8758855797"
      ]
     },
     "metadata": {},
     "output_type": "display_data"
    }
   ],
   "source": [
    "# Example 1\n",
    "library(gapminder)\n",
    "library(plyr)\n",
    "data(gapminder)\n",
    "\n",
    "print(\"Gapminder\")\n",
    "head(gapminder, 3)\n",
    "\n",
    "# add a new column called gdp to dataframe \n",
    "mutate(gapminder, gdp=pop*gdpPercap) %>% head(3)\n",
    "\n",
    "# add a new column called gdp, and keep gdp only\n",
    "transmute(gapminder, gdp=pop*gdpPercap) %>% head(3)"
   ]
  },
  {
   "cell_type": "markdown",
   "metadata": {},
   "source": [
    "## summarise {plyr}\n",
    "\n",
    "Summarise a data frame. Summarise works in a similar way as mutate except instead of adding columns to the input data frame, it create a new data frame.\n",
    "\n",
    "Syntax: summarise(.data, ...)\n",
    "\n",
    ".data: data frame\n",
    "\n",
    "#### Useful Summary Functions\n",
    "Measures of location: mean(), median()\n",
    "\n",
    "Measures of spread: sd(), IQR(), mad() - IQR() and mad() are robust equivalents that may be more useful if there are outliers.\n",
    "\n",
    "Measures of rank: min(), max(), quantile(x, 0.25)\n",
    "\n",
    "Measures of position: first(), nth(x, 2), last() - work similarly to x[1], x[2], and x[length(x)].\n",
    "\n",
    "Counts: n(), n_distinct()\n",
    "\n",
    "\n",
    "#### Note:\n",
    "summarise() is not terribly useful unless we pair it with group_by()."
   ]
  },
  {
   "cell_type": "code",
   "execution_count": 53,
   "metadata": {
    "collapsed": false
   },
   "outputs": [
    {
     "data": {
      "text/html": [
       "<table>\n",
       "<thead><tr><th scope=col>gdp.min</th><th scope=col>gdp.max</th></tr></thead>\n",
       "<tbody>\n",
       "\t<tr><td>52784691    </td><td>1.293446e+13</td></tr>\n",
       "</tbody>\n",
       "</table>\n"
      ],
      "text/latex": [
       "\\begin{tabular}{r|ll}\n",
       " gdp.min & gdp.max\\\\\n",
       "\\hline\n",
       "\t 52784691     & 1.293446e+13\\\\\n",
       "\\end{tabular}\n"
      ],
      "text/markdown": [
       "\n",
       "gdp.min | gdp.max | \n",
       "|---|\n",
       "| 52784691     | 1.293446e+13 | \n",
       "\n",
       "\n"
      ],
      "text/plain": [
       "  gdp.min  gdp.max     \n",
       "1 52784691 1.293446e+13"
      ]
     },
     "metadata": {},
     "output_type": "display_data"
    }
   ],
   "source": [
    "# Example 1\n",
    "library(gapminder)\n",
    "library(dplyr)\n",
    "data(gapminder)\n",
    "\n",
    "gapminder.gdp = mutate(gapminder, gdp=pop*gdpPercap) \n",
    "summarise(gapminder.gdp, gdp.min=min(gdp), gdp.max=max(gdp))"
   ]
  },
  {
   "cell_type": "markdown",
   "metadata": {},
   "source": [
    "## select {dplyr}\n",
    "\n",
    "Select variabels by name, and keeps only the variables you mention;\n",
    "\n",
    "Syntax: select(.data, ...)\n",
    "\n",
    ".data: a tabulate\n",
    "\n",
    "...: One or more unquoted expressions separated by commas.\n",
    "\n",
    "#### helpher functions to use within select()\n",
    "starts_with(\"abc\"): match names that begin with \"abc\"\n",
    "\n",
    "ends_with(\"xyz\"): match names that end with \"xyz\"\n",
    "\n",
    "contains(\"ijk\"): match names that contains \"ijk\"\n",
    "\n",
    "matches(\"(.)\\\\1\"): \n",
    "\n",
    "num_range(\"x\", 1:3): matches x1, x2 and x3\n",
    "\n",
    "#### everything() helper\n",
    "It is useful to use select() in conjunction with the everything() helper if you want to move some variables to the start of the data frame."
   ]
  },
  {
   "cell_type": "code",
   "execution_count": 18,
   "metadata": {
    "collapsed": false
   },
   "outputs": [
    {
     "name": "stdout",
     "output_type": "stream",
     "text": [
      "[1] \"Gapminder\"\n"
     ]
    },
    {
     "data": {
      "text/html": [
       "<table>\n",
       "<thead><tr><th scope=col>country</th><th scope=col>continent</th><th scope=col>year</th><th scope=col>lifeExp</th><th scope=col>pop</th><th scope=col>gdpPercap</th></tr></thead>\n",
       "<tbody>\n",
       "\t<tr><td>Afghanistan</td><td>Asia       </td><td>1952       </td><td>28.801     </td><td> 8425333   </td><td>779.4453   </td></tr>\n",
       "\t<tr><td>Afghanistan</td><td>Asia       </td><td>1957       </td><td>30.332     </td><td> 9240934   </td><td>820.8530   </td></tr>\n",
       "\t<tr><td>Afghanistan</td><td>Asia       </td><td>1962       </td><td>31.997     </td><td>10267083   </td><td>853.1007   </td></tr>\n",
       "</tbody>\n",
       "</table>\n"
      ],
      "text/latex": [
       "\\begin{tabular}{r|llllll}\n",
       " country & continent & year & lifeExp & pop & gdpPercap\\\\\n",
       "\\hline\n",
       "\t Afghanistan & Asia        & 1952        & 28.801      &  8425333    & 779.4453   \\\\\n",
       "\t Afghanistan & Asia        & 1957        & 30.332      &  9240934    & 820.8530   \\\\\n",
       "\t Afghanistan & Asia        & 1962        & 31.997      & 10267083    & 853.1007   \\\\\n",
       "\\end{tabular}\n"
      ],
      "text/markdown": [
       "\n",
       "country | continent | year | lifeExp | pop | gdpPercap | \n",
       "|---|---|---|\n",
       "| Afghanistan | Asia        | 1952        | 28.801      |  8425333    | 779.4453    | \n",
       "| Afghanistan | Asia        | 1957        | 30.332      |  9240934    | 820.8530    | \n",
       "| Afghanistan | Asia        | 1962        | 31.997      | 10267083    | 853.1007    | \n",
       "\n",
       "\n"
      ],
      "text/plain": [
       "  country     continent year lifeExp pop      gdpPercap\n",
       "1 Afghanistan Asia      1952 28.801   8425333 779.4453 \n",
       "2 Afghanistan Asia      1957 30.332   9240934 820.8530 \n",
       "3 Afghanistan Asia      1962 31.997  10267083 853.1007 "
      ]
     },
     "metadata": {},
     "output_type": "display_data"
    },
    {
     "name": "stdout",
     "output_type": "stream",
     "text": [
      "[1] \"Selcted Variables Country and Year\"\n"
     ]
    },
    {
     "data": {
      "text/html": [
       "<table>\n",
       "<thead><tr><th scope=col>country</th><th scope=col>year</th></tr></thead>\n",
       "<tbody>\n",
       "\t<tr><td>Afghanistan</td><td>1952       </td></tr>\n",
       "\t<tr><td>Afghanistan</td><td>1957       </td></tr>\n",
       "\t<tr><td>Afghanistan</td><td>1962       </td></tr>\n",
       "</tbody>\n",
       "</table>\n"
      ],
      "text/latex": [
       "\\begin{tabular}{r|ll}\n",
       " country & year\\\\\n",
       "\\hline\n",
       "\t Afghanistan & 1952       \\\\\n",
       "\t Afghanistan & 1957       \\\\\n",
       "\t Afghanistan & 1962       \\\\\n",
       "\\end{tabular}\n"
      ],
      "text/markdown": [
       "\n",
       "country | year | \n",
       "|---|---|---|\n",
       "| Afghanistan | 1952        | \n",
       "| Afghanistan | 1957        | \n",
       "| Afghanistan | 1962        | \n",
       "\n",
       "\n"
      ],
      "text/plain": [
       "  country     year\n",
       "1 Afghanistan 1952\n",
       "2 Afghanistan 1957\n",
       "3 Afghanistan 1962"
      ]
     },
     "metadata": {},
     "output_type": "display_data"
    },
    {
     "name": "stdout",
     "output_type": "stream",
     "text": [
      "[1] \"Selcted all the Variables from year to pop (inclusive)\"\n"
     ]
    },
    {
     "data": {
      "text/html": [
       "<table>\n",
       "<thead><tr><th scope=col>year</th><th scope=col>lifeExp</th><th scope=col>pop</th></tr></thead>\n",
       "<tbody>\n",
       "\t<tr><td>1952    </td><td>28.801  </td><td> 8425333</td></tr>\n",
       "\t<tr><td>1957    </td><td>30.332  </td><td> 9240934</td></tr>\n",
       "\t<tr><td>1962    </td><td>31.997  </td><td>10267083</td></tr>\n",
       "</tbody>\n",
       "</table>\n"
      ],
      "text/latex": [
       "\\begin{tabular}{r|lll}\n",
       " year & lifeExp & pop\\\\\n",
       "\\hline\n",
       "\t 1952     & 28.801   &  8425333\\\\\n",
       "\t 1957     & 30.332   &  9240934\\\\\n",
       "\t 1962     & 31.997   & 10267083\\\\\n",
       "\\end{tabular}\n"
      ],
      "text/markdown": [
       "\n",
       "year | lifeExp | pop | \n",
       "|---|---|---|\n",
       "| 1952     | 28.801   |  8425333 | \n",
       "| 1957     | 30.332   |  9240934 | \n",
       "| 1962     | 31.997   | 10267083 | \n",
       "\n",
       "\n"
      ],
      "text/plain": [
       "  year lifeExp pop     \n",
       "1 1952 28.801   8425333\n",
       "2 1957 30.332   9240934\n",
       "3 1962 31.997  10267083"
      ]
     },
     "metadata": {},
     "output_type": "display_data"
    },
    {
     "name": "stdout",
     "output_type": "stream",
     "text": [
      "[1] \"Selcted all the Variables expect pop and year\"\n"
     ]
    },
    {
     "data": {
      "text/html": [
       "<table>\n",
       "<thead><tr><th scope=col>country</th><th scope=col>continent</th><th scope=col>lifeExp</th><th scope=col>gdpPercap</th></tr></thead>\n",
       "<tbody>\n",
       "\t<tr><td>Afghanistan</td><td>Asia       </td><td>28.801     </td><td>779.4453   </td></tr>\n",
       "\t<tr><td>Afghanistan</td><td>Asia       </td><td>30.332     </td><td>820.8530   </td></tr>\n",
       "\t<tr><td>Afghanistan</td><td>Asia       </td><td>31.997     </td><td>853.1007   </td></tr>\n",
       "</tbody>\n",
       "</table>\n"
      ],
      "text/latex": [
       "\\begin{tabular}{r|llll}\n",
       " country & continent & lifeExp & gdpPercap\\\\\n",
       "\\hline\n",
       "\t Afghanistan & Asia        & 28.801      & 779.4453   \\\\\n",
       "\t Afghanistan & Asia        & 30.332      & 820.8530   \\\\\n",
       "\t Afghanistan & Asia        & 31.997      & 853.1007   \\\\\n",
       "\\end{tabular}\n"
      ],
      "text/markdown": [
       "\n",
       "country | continent | lifeExp | gdpPercap | \n",
       "|---|---|---|\n",
       "| Afghanistan | Asia        | 28.801      | 779.4453    | \n",
       "| Afghanistan | Asia        | 30.332      | 820.8530    | \n",
       "| Afghanistan | Asia        | 31.997      | 853.1007    | \n",
       "\n",
       "\n"
      ],
      "text/plain": [
       "  country     continent lifeExp gdpPercap\n",
       "1 Afghanistan Asia      28.801  779.4453 \n",
       "2 Afghanistan Asia      30.332  820.8530 \n",
       "3 Afghanistan Asia      31.997  853.1007 "
      ]
     },
     "metadata": {},
     "output_type": "display_data"
    },
    {
     "name": "stdout",
     "output_type": "stream",
     "text": [
      "[1] \"Move year to the 1st column\"\n"
     ]
    },
    {
     "data": {
      "text/html": [
       "<table>\n",
       "<thead><tr><th scope=col>year</th><th scope=col>country</th><th scope=col>continent</th><th scope=col>lifeExp</th><th scope=col>pop</th><th scope=col>gdpPercap</th></tr></thead>\n",
       "<tbody>\n",
       "\t<tr><td>1952       </td><td>Afghanistan</td><td>Asia       </td><td>28.801     </td><td> 8425333   </td><td>779.4453   </td></tr>\n",
       "\t<tr><td>1957       </td><td>Afghanistan</td><td>Asia       </td><td>30.332     </td><td> 9240934   </td><td>820.8530   </td></tr>\n",
       "\t<tr><td>1962       </td><td>Afghanistan</td><td>Asia       </td><td>31.997     </td><td>10267083   </td><td>853.1007   </td></tr>\n",
       "</tbody>\n",
       "</table>\n"
      ],
      "text/latex": [
       "\\begin{tabular}{r|llllll}\n",
       " year & country & continent & lifeExp & pop & gdpPercap\\\\\n",
       "\\hline\n",
       "\t 1952        & Afghanistan & Asia        & 28.801      &  8425333    & 779.4453   \\\\\n",
       "\t 1957        & Afghanistan & Asia        & 30.332      &  9240934    & 820.8530   \\\\\n",
       "\t 1962        & Afghanistan & Asia        & 31.997      & 10267083    & 853.1007   \\\\\n",
       "\\end{tabular}\n"
      ],
      "text/markdown": [
       "\n",
       "year | country | continent | lifeExp | pop | gdpPercap | \n",
       "|---|---|---|\n",
       "| 1952        | Afghanistan | Asia        | 28.801      |  8425333    | 779.4453    | \n",
       "| 1957        | Afghanistan | Asia        | 30.332      |  9240934    | 820.8530    | \n",
       "| 1962        | Afghanistan | Asia        | 31.997      | 10267083    | 853.1007    | \n",
       "\n",
       "\n"
      ],
      "text/plain": [
       "  year country     continent lifeExp pop      gdpPercap\n",
       "1 1952 Afghanistan Asia      28.801   8425333 779.4453 \n",
       "2 1957 Afghanistan Asia      30.332   9240934 820.8530 \n",
       "3 1962 Afghanistan Asia      31.997  10267083 853.1007 "
      ]
     },
     "metadata": {},
     "output_type": "display_data"
    }
   ],
   "source": [
    "# Example 1\n",
    "library(gapminder)\n",
    "library(dplyr)\n",
    "data(gapminder)\n",
    "\n",
    "print(\"Gapminder\")\n",
    "head(gapminder, 3)\n",
    "\n",
    "print(\"Selcted Variables Country and Year\")\n",
    "head( select(gapminder,country, year), 3 )\n",
    "\n",
    "print(\"Selcted all the Variables from year to pop (inclusive)\")\n",
    "head( select(gapminder, year:pop ),3)\n",
    "\n",
    "print(\"Selcted all the Variables expect pop and year\")\n",
    "head( select(gapminder,-pop,-year ),3)\n",
    "\n",
    "print(\"Move year to the 1st column\")\n",
    "head(select(gapminder, year, everything()),3)"
   ]
  },
  {
   "cell_type": "markdown",
   "metadata": {},
   "source": [
    "## filter {dplyr}\n",
    "\n",
    "Return rows of a tabulate which satisfy matching conditions.\n",
    "\n",
    "Syntax: filter(.data, ...)\n",
    "\n",
    ".data: tabulate\n",
    "\n",
    "...: logical operations\n",
    "\n",
    "#### Comparison Operators\n",
    "To use filtering effectively, you have to know how to select the observations using comparison operations.\n",
    "\n",
    ">, >=, <, <=, !=, ==\n",
    "\n",
    "A common problem when using == floating point numbers.\n",
    "\n",
    "Every number you see is an approximation. Instead of relying on\"==\", use near().\n",
    "\n",
    "#### Logical Operators\n",
    "& and\n",
    "\n",
    "| or\n",
    "\n",
    "! not\n",
    "\n",
    "xor(x, y) or but not and\n",
    "\n",
    "x %in% y test whether x has elements of y\n",
    "\n",
    "Note: A useful shortcut of \"or\" is x %in% y.\n",
    "\n",
    "#### Missing Values\n",
    "Every operations involing missing values returns missing values. filter() only includes rows where the condition is TRUE, it excludes both FALSE and NA values."
   ]
  },
  {
   "cell_type": "code",
   "execution_count": 8,
   "metadata": {
    "collapsed": false
   },
   "outputs": [
    {
     "data": {
      "text/html": [
       "FALSE"
      ],
      "text/latex": [
       "FALSE"
      ],
      "text/markdown": [
       "FALSE"
      ],
      "text/plain": [
       "[1] FALSE"
      ]
     },
     "metadata": {},
     "output_type": "display_data"
    },
    {
     "data": {
      "text/html": [
       "TRUE"
      ],
      "text/latex": [
       "TRUE"
      ],
      "text/markdown": [
       "TRUE"
      ],
      "text/plain": [
       "[1] TRUE"
      ]
     },
     "metadata": {},
     "output_type": "display_data"
    }
   ],
   "source": [
    "# Example 1: Comparison Operators\n",
    "library(dplyr)\n",
    "sqrt(2)^2 == 2     # floating number\n",
    "near(sqrt(2)^2, 2)"
   ]
  },
  {
   "cell_type": "code",
   "execution_count": 12,
   "metadata": {
    "collapsed": false
   },
   "outputs": [
    {
     "name": "stdout",
     "output_type": "stream",
     "text": [
      "[1] \"Gapminder\"\n"
     ]
    },
    {
     "data": {
      "text/html": [
       "<table>\n",
       "<thead><tr><th scope=col>country</th><th scope=col>continent</th><th scope=col>year</th><th scope=col>lifeExp</th><th scope=col>pop</th><th scope=col>gdpPercap</th></tr></thead>\n",
       "<tbody>\n",
       "\t<tr><td>Afghanistan</td><td>Asia       </td><td>1952       </td><td>28.801     </td><td> 8425333   </td><td>779.4453   </td></tr>\n",
       "\t<tr><td>Afghanistan</td><td>Asia       </td><td>1957       </td><td>30.332     </td><td> 9240934   </td><td>820.8530   </td></tr>\n",
       "\t<tr><td>Afghanistan</td><td>Asia       </td><td>1962       </td><td>31.997     </td><td>10267083   </td><td>853.1007   </td></tr>\n",
       "</tbody>\n",
       "</table>\n"
      ],
      "text/latex": [
       "\\begin{tabular}{r|llllll}\n",
       " country & continent & year & lifeExp & pop & gdpPercap\\\\\n",
       "\\hline\n",
       "\t Afghanistan & Asia        & 1952        & 28.801      &  8425333    & 779.4453   \\\\\n",
       "\t Afghanistan & Asia        & 1957        & 30.332      &  9240934    & 820.8530   \\\\\n",
       "\t Afghanistan & Asia        & 1962        & 31.997      & 10267083    & 853.1007   \\\\\n",
       "\\end{tabular}\n"
      ],
      "text/markdown": [
       "\n",
       "country | continent | year | lifeExp | pop | gdpPercap | \n",
       "|---|---|---|\n",
       "| Afghanistan | Asia        | 1952        | 28.801      |  8425333    | 779.4453    | \n",
       "| Afghanistan | Asia        | 1957        | 30.332      |  9240934    | 820.8530    | \n",
       "| Afghanistan | Asia        | 1962        | 31.997      | 10267083    | 853.1007    | \n",
       "\n",
       "\n"
      ],
      "text/plain": [
       "  country     continent year lifeExp pop      gdpPercap\n",
       "1 Afghanistan Asia      1952 28.801   8425333 779.4453 \n",
       "2 Afghanistan Asia      1957 30.332   9240934 820.8530 \n",
       "3 Afghanistan Asia      1962 31.997  10267083 853.1007 "
      ]
     },
     "metadata": {},
     "output_type": "display_data"
    },
    {
     "name": "stdout",
     "output_type": "stream",
     "text": [
      "[1] \"Filtered Gapminder\"\n"
     ]
    },
    {
     "data": {
      "text/html": [
       "<table>\n",
       "<thead><tr><th scope=col>country</th><th scope=col>continent</th><th scope=col>year</th><th scope=col>lifeExp</th><th scope=col>pop</th><th scope=col>gdpPercap</th></tr></thead>\n",
       "<tbody>\n",
       "\t<tr><td>Afghanistan</td><td>Asia       </td><td>1952       </td><td>28.801     </td><td> 8425333   </td><td> 779.4453  </td></tr>\n",
       "\t<tr><td>Afghanistan</td><td>Asia       </td><td>1962       </td><td>31.997     </td><td>10267083   </td><td> 853.1007  </td></tr>\n",
       "\t<tr><td>Albania    </td><td>Europe     </td><td>1952       </td><td>55.230     </td><td> 1282697   </td><td>1601.0561  </td></tr>\n",
       "</tbody>\n",
       "</table>\n"
      ],
      "text/latex": [
       "\\begin{tabular}{r|llllll}\n",
       " country & continent & year & lifeExp & pop & gdpPercap\\\\\n",
       "\\hline\n",
       "\t Afghanistan & Asia        & 1952        & 28.801      &  8425333    &  779.4453  \\\\\n",
       "\t Afghanistan & Asia        & 1962        & 31.997      & 10267083    &  853.1007  \\\\\n",
       "\t Albania     & Europe      & 1952        & 55.230      &  1282697    & 1601.0561  \\\\\n",
       "\\end{tabular}\n"
      ],
      "text/markdown": [
       "\n",
       "country | continent | year | lifeExp | pop | gdpPercap | \n",
       "|---|---|---|\n",
       "| Afghanistan | Asia        | 1952        | 28.801      |  8425333    |  779.4453   | \n",
       "| Afghanistan | Asia        | 1962        | 31.997      | 10267083    |  853.1007   | \n",
       "| Albania     | Europe      | 1952        | 55.230      |  1282697    | 1601.0561   | \n",
       "\n",
       "\n"
      ],
      "text/plain": [
       "  country     continent year lifeExp pop      gdpPercap\n",
       "1 Afghanistan Asia      1952 28.801   8425333  779.4453\n",
       "2 Afghanistan Asia      1962 31.997  10267083  853.1007\n",
       "3 Albania     Europe    1952 55.230   1282697 1601.0561"
      ]
     },
     "metadata": {},
     "output_type": "display_data"
    },
    {
     "data": {
      "text/html": [
       "<table>\n",
       "<thead><tr><th scope=col>country</th><th scope=col>continent</th><th scope=col>year</th><th scope=col>lifeExp</th><th scope=col>pop</th><th scope=col>gdpPercap</th></tr></thead>\n",
       "<tbody>\n",
       "\t<tr><td>Afghanistan</td><td>Asia       </td><td>1952       </td><td>28.801     </td><td> 8425333   </td><td> 779.4453  </td></tr>\n",
       "\t<tr><td>Afghanistan</td><td>Asia       </td><td>1962       </td><td>31.997     </td><td>10267083   </td><td> 853.1007  </td></tr>\n",
       "\t<tr><td>Albania    </td><td>Europe     </td><td>1952       </td><td>55.230     </td><td> 1282697   </td><td>1601.0561  </td></tr>\n",
       "</tbody>\n",
       "</table>\n"
      ],
      "text/latex": [
       "\\begin{tabular}{r|llllll}\n",
       " country & continent & year & lifeExp & pop & gdpPercap\\\\\n",
       "\\hline\n",
       "\t Afghanistan & Asia        & 1952        & 28.801      &  8425333    &  779.4453  \\\\\n",
       "\t Afghanistan & Asia        & 1962        & 31.997      & 10267083    &  853.1007  \\\\\n",
       "\t Albania     & Europe      & 1952        & 55.230      &  1282697    & 1601.0561  \\\\\n",
       "\\end{tabular}\n"
      ],
      "text/markdown": [
       "\n",
       "country | continent | year | lifeExp | pop | gdpPercap | \n",
       "|---|---|---|\n",
       "| Afghanistan | Asia        | 1952        | 28.801      |  8425333    |  779.4453   | \n",
       "| Afghanistan | Asia        | 1962        | 31.997      | 10267083    |  853.1007   | \n",
       "| Albania     | Europe      | 1952        | 55.230      |  1282697    | 1601.0561   | \n",
       "\n",
       "\n"
      ],
      "text/plain": [
       "  country     continent year lifeExp pop      gdpPercap\n",
       "1 Afghanistan Asia      1952 28.801   8425333  779.4453\n",
       "2 Afghanistan Asia      1962 31.997  10267083  853.1007\n",
       "3 Albania     Europe    1952 55.230   1282697 1601.0561"
      ]
     },
     "metadata": {},
     "output_type": "display_data"
    }
   ],
   "source": [
    "# Example 2: Logical Operators\n",
    "# x %in% y\n",
    "library(gapminder)\n",
    "library(dplyr)\n",
    "data(gapminder)\n",
    "print(\"Gapminder\")\n",
    "head(gapminder,3)\n",
    "print(\"Filtered Gapminder\")\n",
    "head( filter(gapminder, year==1952 | year==1962),3 )\n",
    "head( filter(gapminder, year %in% c(1952,1962) ),3 )"
   ]
  },
  {
   "cell_type": "code",
   "execution_count": 14,
   "metadata": {
    "collapsed": false
   },
   "outputs": [
    {
     "data": {
      "text/html": [
       "<table>\n",
       "<thead><tr><th scope=col>x</th></tr></thead>\n",
       "<tbody>\n",
       "\t<tr><td>3</td></tr>\n",
       "</tbody>\n",
       "</table>\n"
      ],
      "text/latex": [
       "\\begin{tabular}{r|l}\n",
       " x\\\\\n",
       "\\hline\n",
       "\t 3\\\\\n",
       "\\end{tabular}\n"
      ],
      "text/markdown": [
       "\n",
       "x | \n",
       "|---|\n",
       "| 3 | \n",
       "\n",
       "\n"
      ],
      "text/plain": [
       "  x\n",
       "1 3"
      ]
     },
     "metadata": {},
     "output_type": "display_data"
    },
    {
     "data": {
      "text/html": [
       "<table>\n",
       "<thead><tr><th scope=col>x</th></tr></thead>\n",
       "<tbody>\n",
       "\t<tr><td>NA</td></tr>\n",
       "\t<tr><td> 3</td></tr>\n",
       "</tbody>\n",
       "</table>\n"
      ],
      "text/latex": [
       "\\begin{tabular}{r|l}\n",
       " x\\\\\n",
       "\\hline\n",
       "\t NA\\\\\n",
       "\t  3\\\\\n",
       "\\end{tabular}\n"
      ],
      "text/markdown": [
       "\n",
       "x | \n",
       "|---|---|\n",
       "| NA | \n",
       "|  3 | \n",
       "\n",
       "\n"
      ],
      "text/plain": [
       "  x \n",
       "1 NA\n",
       "2  3"
      ]
     },
     "metadata": {},
     "output_type": "display_data"
    }
   ],
   "source": [
    "# Example 3: Missing Values\n",
    "df = tibble(x=c(1, NA, 3))\n",
    "filter(df, x > 1)          # exclude NA values\n",
    "filter(df, is.na(x) | x>1) # if want to preserve NA values"
   ]
  },
  {
   "cell_type": "code",
   "execution_count": 31,
   "metadata": {
    "collapsed": false
   },
   "outputs": [
    {
     "name": "stdout",
     "output_type": "stream",
     "text": [
      "[1] \"Gapminder\"\n"
     ]
    },
    {
     "data": {
      "text/html": [
       "<table>\n",
       "<thead><tr><th scope=col>country</th><th scope=col>continent</th><th scope=col>year</th><th scope=col>lifeExp</th><th scope=col>pop</th><th scope=col>gdpPercap</th></tr></thead>\n",
       "<tbody>\n",
       "\t<tr><td>Afghanistan</td><td>Asia       </td><td>1952       </td><td>28.801     </td><td> 8425333   </td><td>779.4453   </td></tr>\n",
       "\t<tr><td>Afghanistan</td><td>Asia       </td><td>1957       </td><td>30.332     </td><td> 9240934   </td><td>820.8530   </td></tr>\n",
       "\t<tr><td>Afghanistan</td><td>Asia       </td><td>1962       </td><td>31.997     </td><td>10267083   </td><td>853.1007   </td></tr>\n",
       "\t<tr><td>Afghanistan</td><td>Asia       </td><td>1967       </td><td>34.020     </td><td>11537966   </td><td>836.1971   </td></tr>\n",
       "\t<tr><td>Afghanistan</td><td>Asia       </td><td>1972       </td><td>36.088     </td><td>13079460   </td><td>739.9811   </td></tr>\n",
       "\t<tr><td>Afghanistan</td><td>Asia       </td><td>1977       </td><td>38.438     </td><td>14880372   </td><td>786.1134   </td></tr>\n",
       "</tbody>\n",
       "</table>\n"
      ],
      "text/latex": [
       "\\begin{tabular}{r|llllll}\n",
       " country & continent & year & lifeExp & pop & gdpPercap\\\\\n",
       "\\hline\n",
       "\t Afghanistan & Asia        & 1952        & 28.801      &  8425333    & 779.4453   \\\\\n",
       "\t Afghanistan & Asia        & 1957        & 30.332      &  9240934    & 820.8530   \\\\\n",
       "\t Afghanistan & Asia        & 1962        & 31.997      & 10267083    & 853.1007   \\\\\n",
       "\t Afghanistan & Asia        & 1967        & 34.020      & 11537966    & 836.1971   \\\\\n",
       "\t Afghanistan & Asia        & 1972        & 36.088      & 13079460    & 739.9811   \\\\\n",
       "\t Afghanistan & Asia        & 1977        & 38.438      & 14880372    & 786.1134   \\\\\n",
       "\\end{tabular}\n"
      ],
      "text/markdown": [
       "\n",
       "country | continent | year | lifeExp | pop | gdpPercap | \n",
       "|---|---|---|---|---|---|\n",
       "| Afghanistan | Asia        | 1952        | 28.801      |  8425333    | 779.4453    | \n",
       "| Afghanistan | Asia        | 1957        | 30.332      |  9240934    | 820.8530    | \n",
       "| Afghanistan | Asia        | 1962        | 31.997      | 10267083    | 853.1007    | \n",
       "| Afghanistan | Asia        | 1967        | 34.020      | 11537966    | 836.1971    | \n",
       "| Afghanistan | Asia        | 1972        | 36.088      | 13079460    | 739.9811    | \n",
       "| Afghanistan | Asia        | 1977        | 38.438      | 14880372    | 786.1134    | \n",
       "\n",
       "\n"
      ],
      "text/plain": [
       "  country     continent year lifeExp pop      gdpPercap\n",
       "1 Afghanistan Asia      1952 28.801   8425333 779.4453 \n",
       "2 Afghanistan Asia      1957 30.332   9240934 820.8530 \n",
       "3 Afghanistan Asia      1962 31.997  10267083 853.1007 \n",
       "4 Afghanistan Asia      1967 34.020  11537966 836.1971 \n",
       "5 Afghanistan Asia      1972 36.088  13079460 739.9811 \n",
       "6 Afghanistan Asia      1977 38.438  14880372 786.1134 "
      ]
     },
     "metadata": {},
     "output_type": "display_data"
    },
    {
     "name": "stdout",
     "output_type": "stream",
     "text": [
      "[1] \"Filtered Gapminder\"\n"
     ]
    },
    {
     "data": {
      "text/html": [
       "<table>\n",
       "<thead><tr><th scope=col>country</th><th scope=col>continent</th><th scope=col>year</th><th scope=col>lifeExp</th><th scope=col>pop</th><th scope=col>gdpPercap</th></tr></thead>\n",
       "<tbody>\n",
       "\t<tr><td>Afghanistan</td><td>Asia       </td><td>1952       </td><td>28.801     </td><td> 8425333   </td><td>  779.4453 </td></tr>\n",
       "\t<tr><td>Albania    </td><td>Europe     </td><td>1952       </td><td>55.230     </td><td> 1282697   </td><td> 1601.0561 </td></tr>\n",
       "\t<tr><td>Algeria    </td><td>Africa     </td><td>1952       </td><td>43.077     </td><td> 9279525   </td><td> 2449.0082 </td></tr>\n",
       "\t<tr><td>Angola     </td><td>Africa     </td><td>1952       </td><td>30.015     </td><td> 4232095   </td><td> 3520.6103 </td></tr>\n",
       "\t<tr><td>Argentina  </td><td>Americas   </td><td>1952       </td><td>62.485     </td><td>17876956   </td><td> 5911.3151 </td></tr>\n",
       "\t<tr><td>Australia  </td><td>Oceania    </td><td>1952       </td><td>69.120     </td><td> 8691212   </td><td>10039.5956 </td></tr>\n",
       "</tbody>\n",
       "</table>\n"
      ],
      "text/latex": [
       "\\begin{tabular}{r|llllll}\n",
       " country & continent & year & lifeExp & pop & gdpPercap\\\\\n",
       "\\hline\n",
       "\t Afghanistan & Asia        & 1952        & 28.801      &  8425333    &   779.4453 \\\\\n",
       "\t Albania     & Europe      & 1952        & 55.230      &  1282697    &  1601.0561 \\\\\n",
       "\t Algeria     & Africa      & 1952        & 43.077      &  9279525    &  2449.0082 \\\\\n",
       "\t Angola      & Africa      & 1952        & 30.015      &  4232095    &  3520.6103 \\\\\n",
       "\t Argentina   & Americas    & 1952        & 62.485      & 17876956    &  5911.3151 \\\\\n",
       "\t Australia   & Oceania     & 1952        & 69.120      &  8691212    & 10039.5956 \\\\\n",
       "\\end{tabular}\n"
      ],
      "text/markdown": [
       "\n",
       "country | continent | year | lifeExp | pop | gdpPercap | \n",
       "|---|---|---|---|---|---|\n",
       "| Afghanistan | Asia        | 1952        | 28.801      |  8425333    |   779.4453  | \n",
       "| Albania     | Europe      | 1952        | 55.230      |  1282697    |  1601.0561  | \n",
       "| Algeria     | Africa      | 1952        | 43.077      |  9279525    |  2449.0082  | \n",
       "| Angola      | Africa      | 1952        | 30.015      |  4232095    |  3520.6103  | \n",
       "| Argentina   | Americas    | 1952        | 62.485      | 17876956    |  5911.3151  | \n",
       "| Australia   | Oceania     | 1952        | 69.120      |  8691212    | 10039.5956  | \n",
       "\n",
       "\n"
      ],
      "text/plain": [
       "  country     continent year lifeExp pop      gdpPercap \n",
       "1 Afghanistan Asia      1952 28.801   8425333   779.4453\n",
       "2 Albania     Europe    1952 55.230   1282697  1601.0561\n",
       "3 Algeria     Africa    1952 43.077   9279525  2449.0082\n",
       "4 Angola      Africa    1952 30.015   4232095  3520.6103\n",
       "5 Argentina   Americas  1952 62.485  17876956  5911.3151\n",
       "6 Australia   Oceania   1952 69.120   8691212 10039.5956"
      ]
     },
     "metadata": {},
     "output_type": "display_data"
    }
   ],
   "source": [
    "# Example 1\n",
    "library(gapminder)\n",
    "library(dplyr)\n",
    "data(gapminder)\n",
    "print(\"Gapminder\")\n",
    "head(gapminder)\n",
    "print(\"Filtered Gapminder\")\n",
    "head( filter(gapminder, year==1952 | year==1962) )"
   ]
  },
  {
   "cell_type": "markdown",
   "metadata": {},
   "source": [
    "## rename {dplyr}\n",
    "\n",
    "Rename variabels in a tabulte, and keeps all variables.\n",
    "\n",
    "Syntax: rename(.data, ...)\n",
    "\n",
    ".data: a tabulate\n",
    "\n",
    "...: new = old, seperated by commas."
   ]
  },
  {
   "cell_type": "code",
   "execution_count": 40,
   "metadata": {
    "collapsed": false
   },
   "outputs": [
    {
     "name": "stdout",
     "output_type": "stream",
     "text": [
      "[1] \"Gapminder\"\n"
     ]
    },
    {
     "data": {
      "text/html": [
       "<table>\n",
       "<thead><tr><th scope=col>country</th><th scope=col>continent</th><th scope=col>year</th><th scope=col>lifeExp</th><th scope=col>pop</th><th scope=col>gdpPercap</th></tr></thead>\n",
       "<tbody>\n",
       "\t<tr><td>Afghanistan</td><td>Asia       </td><td>1952       </td><td>28.801     </td><td> 8425333   </td><td>779.4453   </td></tr>\n",
       "\t<tr><td>Afghanistan</td><td>Asia       </td><td>1957       </td><td>30.332     </td><td> 9240934   </td><td>820.8530   </td></tr>\n",
       "\t<tr><td>Afghanistan</td><td>Asia       </td><td>1962       </td><td>31.997     </td><td>10267083   </td><td>853.1007   </td></tr>\n",
       "\t<tr><td>Afghanistan</td><td>Asia       </td><td>1967       </td><td>34.020     </td><td>11537966   </td><td>836.1971   </td></tr>\n",
       "\t<tr><td>Afghanistan</td><td>Asia       </td><td>1972       </td><td>36.088     </td><td>13079460   </td><td>739.9811   </td></tr>\n",
       "\t<tr><td>Afghanistan</td><td>Asia       </td><td>1977       </td><td>38.438     </td><td>14880372   </td><td>786.1134   </td></tr>\n",
       "</tbody>\n",
       "</table>\n"
      ],
      "text/latex": [
       "\\begin{tabular}{r|llllll}\n",
       " country & continent & year & lifeExp & pop & gdpPercap\\\\\n",
       "\\hline\n",
       "\t Afghanistan & Asia        & 1952        & 28.801      &  8425333    & 779.4453   \\\\\n",
       "\t Afghanistan & Asia        & 1957        & 30.332      &  9240934    & 820.8530   \\\\\n",
       "\t Afghanistan & Asia        & 1962        & 31.997      & 10267083    & 853.1007   \\\\\n",
       "\t Afghanistan & Asia        & 1967        & 34.020      & 11537966    & 836.1971   \\\\\n",
       "\t Afghanistan & Asia        & 1972        & 36.088      & 13079460    & 739.9811   \\\\\n",
       "\t Afghanistan & Asia        & 1977        & 38.438      & 14880372    & 786.1134   \\\\\n",
       "\\end{tabular}\n"
      ],
      "text/markdown": [
       "\n",
       "country | continent | year | lifeExp | pop | gdpPercap | \n",
       "|---|---|---|---|---|---|\n",
       "| Afghanistan | Asia        | 1952        | 28.801      |  8425333    | 779.4453    | \n",
       "| Afghanistan | Asia        | 1957        | 30.332      |  9240934    | 820.8530    | \n",
       "| Afghanistan | Asia        | 1962        | 31.997      | 10267083    | 853.1007    | \n",
       "| Afghanistan | Asia        | 1967        | 34.020      | 11537966    | 836.1971    | \n",
       "| Afghanistan | Asia        | 1972        | 36.088      | 13079460    | 739.9811    | \n",
       "| Afghanistan | Asia        | 1977        | 38.438      | 14880372    | 786.1134    | \n",
       "\n",
       "\n"
      ],
      "text/plain": [
       "  country     continent year lifeExp pop      gdpPercap\n",
       "1 Afghanistan Asia      1952 28.801   8425333 779.4453 \n",
       "2 Afghanistan Asia      1957 30.332   9240934 820.8530 \n",
       "3 Afghanistan Asia      1962 31.997  10267083 853.1007 \n",
       "4 Afghanistan Asia      1967 34.020  11537966 836.1971 \n",
       "5 Afghanistan Asia      1972 36.088  13079460 739.9811 \n",
       "6 Afghanistan Asia      1977 38.438  14880372 786.1134 "
      ]
     },
     "metadata": {},
     "output_type": "display_data"
    },
    {
     "name": "stdout",
     "output_type": "stream",
     "text": [
      "[1] \"Rename Variables country and year\"\n"
     ]
    },
    {
     "data": {
      "text/html": [
       "<table>\n",
       "<thead><tr><th scope=col>COUNTRY</th><th scope=col>YEAR</th></tr></thead>\n",
       "<tbody>\n",
       "\t<tr><td>Afghanistan</td><td>1952       </td></tr>\n",
       "\t<tr><td>Afghanistan</td><td>1957       </td></tr>\n",
       "\t<tr><td>Afghanistan</td><td>1962       </td></tr>\n",
       "\t<tr><td>Afghanistan</td><td>1967       </td></tr>\n",
       "\t<tr><td>Afghanistan</td><td>1972       </td></tr>\n",
       "\t<tr><td>Afghanistan</td><td>1977       </td></tr>\n",
       "</tbody>\n",
       "</table>\n"
      ],
      "text/latex": [
       "\\begin{tabular}{r|ll}\n",
       " COUNTRY & YEAR\\\\\n",
       "\\hline\n",
       "\t Afghanistan & 1952       \\\\\n",
       "\t Afghanistan & 1957       \\\\\n",
       "\t Afghanistan & 1962       \\\\\n",
       "\t Afghanistan & 1967       \\\\\n",
       "\t Afghanistan & 1972       \\\\\n",
       "\t Afghanistan & 1977       \\\\\n",
       "\\end{tabular}\n"
      ],
      "text/markdown": [
       "\n",
       "COUNTRY | YEAR | \n",
       "|---|---|---|---|---|---|\n",
       "| Afghanistan | 1952        | \n",
       "| Afghanistan | 1957        | \n",
       "| Afghanistan | 1962        | \n",
       "| Afghanistan | 1967        | \n",
       "| Afghanistan | 1972        | \n",
       "| Afghanistan | 1977        | \n",
       "\n",
       "\n"
      ],
      "text/plain": [
       "  COUNTRY     YEAR\n",
       "1 Afghanistan 1952\n",
       "2 Afghanistan 1957\n",
       "3 Afghanistan 1962\n",
       "4 Afghanistan 1967\n",
       "5 Afghanistan 1972\n",
       "6 Afghanistan 1977"
      ]
     },
     "metadata": {},
     "output_type": "display_data"
    }
   ],
   "source": [
    "# Example 1\n",
    "library(gapminder)\n",
    "library(dplyr)\n",
    "data(gapminder)\n",
    "\n",
    "print(\"Gapminder\")\n",
    "head(gapminder)\n",
    "\n",
    "print(\"Rename Variables country and year\")\n",
    "head( select(gapminder,COUNTRY=country, YEAR = year ) )"
   ]
  },
  {
   "cell_type": "markdown",
   "metadata": {},
   "source": [
    "## group_by {dplyr} and ungroup {dplyr}\n",
    "\n",
    "group_by() takes an existing tbl and convert it into a grouped tbl where operations are performed by group.\n",
    "\n",
    "Syntax: group_by(.data, ..., add=FALSE); ungroup(x)\n",
    "\n",
    ".data: a tbl\n",
    "\n",
    "...: variables to group by\n",
    "\n",
    "add: When add=FALSE, group_by will overwrite existing tbl\n",
    "\n",
    "#### Note:\n",
    "group_by() can group by multiple variables."
   ]
  },
  {
   "cell_type": "markdown",
   "metadata": {},
   "source": [
    "## n_distinct {dplyr}\n",
    "\n",
    "Count the number of unique values in a set of vector.\n",
    "\n",
    "Syntax: n_distinct(..., na.rm=FALSE)\n",
    "\n",
    "...: vectors of values\n",
    "\n",
    "na.rm: if na.rm=TRUE, missing values does not count\n",
    "\n",
    "Note: n_distinct is a faster and more concise version of length(unique(x))"
   ]
  },
  {
   "cell_type": "code",
   "execution_count": 5,
   "metadata": {
    "collapsed": false
   },
   "outputs": [
    {
     "data": {
      "text/html": [
       "10"
      ],
      "text/latex": [
       "10"
      ],
      "text/markdown": [
       "10"
      ],
      "text/plain": [
       "[1] 10"
      ]
     },
     "metadata": {},
     "output_type": "display_data"
    },
    {
     "data": {
      "text/html": [
       "10"
      ],
      "text/latex": [
       "10"
      ],
      "text/markdown": [
       "10"
      ],
      "text/plain": [
       "[1] 10"
      ]
     },
     "metadata": {},
     "output_type": "display_data"
    }
   ],
   "source": [
    "# Example 1: \n",
    "library(dplyr)\n",
    "x = sample(1:10, 100, rep=TRUE)\n",
    "length(unique(x))\n",
    "n_distinct(x)"
   ]
  },
  {
   "cell_type": "markdown",
   "metadata": {},
   "source": [
    "## n {dplyr}\n",
    "n() counts the number of obervations in the current group, and can only be used from within summarise(), mutate(), filter()\n",
    "\n",
    "Note: Whenever you do aggregation, it is always good to include either a count n() or a count of non-missing values sum(!is.na(x)). That way you can check that you are not drawing conclusions based on very small amounts of data. "
   ]
  },
  {
   "cell_type": "code",
   "execution_count": 28,
   "metadata": {
    "collapsed": false
   },
   "outputs": [
    {
     "name": "stdout",
     "output_type": "stream",
     "text": [
      "[1] \"Gapminder\"\n"
     ]
    },
    {
     "data": {
      "text/html": [
       "<table>\n",
       "<thead><tr><th scope=col>country</th><th scope=col>continent</th><th scope=col>year</th><th scope=col>lifeExp</th><th scope=col>pop</th><th scope=col>gdpPercap</th></tr></thead>\n",
       "<tbody>\n",
       "\t<tr><td>Afghanistan</td><td>Asia       </td><td>1952       </td><td>28.801     </td><td> 8425333   </td><td>779.4453   </td></tr>\n",
       "\t<tr><td>Afghanistan</td><td>Asia       </td><td>1957       </td><td>30.332     </td><td> 9240934   </td><td>820.8530   </td></tr>\n",
       "\t<tr><td>Afghanistan</td><td>Asia       </td><td>1962       </td><td>31.997     </td><td>10267083   </td><td>853.1007   </td></tr>\n",
       "</tbody>\n",
       "</table>\n"
      ],
      "text/latex": [
       "\\begin{tabular}{r|llllll}\n",
       " country & continent & year & lifeExp & pop & gdpPercap\\\\\n",
       "\\hline\n",
       "\t Afghanistan & Asia        & 1952        & 28.801      &  8425333    & 779.4453   \\\\\n",
       "\t Afghanistan & Asia        & 1957        & 30.332      &  9240934    & 820.8530   \\\\\n",
       "\t Afghanistan & Asia        & 1962        & 31.997      & 10267083    & 853.1007   \\\\\n",
       "\\end{tabular}\n"
      ],
      "text/markdown": [
       "\n",
       "country | continent | year | lifeExp | pop | gdpPercap | \n",
       "|---|---|---|\n",
       "| Afghanistan | Asia        | 1952        | 28.801      |  8425333    | 779.4453    | \n",
       "| Afghanistan | Asia        | 1957        | 30.332      |  9240934    | 820.8530    | \n",
       "| Afghanistan | Asia        | 1962        | 31.997      | 10267083    | 853.1007    | \n",
       "\n",
       "\n"
      ],
      "text/plain": [
       "  country     continent year lifeExp pop      gdpPercap\n",
       "1 Afghanistan Asia      1952 28.801   8425333 779.4453 \n",
       "2 Afghanistan Asia      1957 30.332   9240934 820.8530 \n",
       "3 Afghanistan Asia      1962 31.997  10267083 853.1007 "
      ]
     },
     "metadata": {},
     "output_type": "display_data"
    },
    {
     "name": "stdout",
     "output_type": "stream",
     "text": [
      "[1] \"Rename Variables country and year\"\n"
     ]
    },
    {
     "data": {
      "text/html": [
       "<table>\n",
       "<thead><tr><th scope=col>country</th><th scope=col>continent</th><th scope=col>year</th><th scope=col>lifeExp</th><th scope=col>pop</th><th scope=col>gdpPercap</th></tr></thead>\n",
       "<tbody>\n",
       "</tbody>\n",
       "</table>\n"
      ],
      "text/latex": [
       "\\begin{tabular}{r|llllll}\n",
       " country & continent & year & lifeExp & pop & gdpPercap\\\\\n",
       "\\hline\n",
       "\\end{tabular}\n"
      ],
      "text/markdown": [
       "\n",
       "country | continent | year | lifeExp | pop | gdpPercap | \n",
       "||\n",
       "\n",
       "\n"
      ],
      "text/plain": [
       "     country continent year lifeExp pop gdpPercap"
      ]
     },
     "metadata": {},
     "output_type": "display_data"
    }
   ],
   "source": [
    "# Example 1\n",
    "library(gapminder)\n",
    "library(dplyr)\n",
    "data(gapminder)\n",
    "\n",
    "print(\"Gapminder\")\n",
    "head(gapminder,3)\n",
    "\n",
    "print(\"Rename Variables country and year\")\n",
    "head( filter(gapminder, n()<100 ) )"
   ]
  },
  {
   "cell_type": "markdown",
   "metadata": {
    "collapsed": true
   },
   "source": [
    "## Combining Multiple Operations with Pipe\n",
    "\n",
    "Syntax: %>%\n",
    "\n",
    "Pipes are a powerful tool for clearly expressing a sequence of multiple operations.The pipe, %>%, comes from the magrittr package by Stefan Milton Bache. Packages in the tidyverse load %>% for you automatically, so you don’t usually load magrittr explicitly. \n",
    "\n",
    "#### Note:\n",
    "\n",
    "Missing Values: All aggregation function have an na.rm argument, which remove the missing values prior to computation."
   ]
  },
  {
   "cell_type": "code",
   "execution_count": 1,
   "metadata": {
    "collapsed": false
   },
   "outputs": [
    {
     "name": "stderr",
     "output_type": "stream",
     "text": [
      "Warning message:\n",
      "“package ‘dplyr’ was built under R version 3.2.5”\n",
      "Attaching package: ‘dplyr’\n",
      "\n",
      "The following objects are masked from ‘package:stats’:\n",
      "\n",
      "    filter, lag\n",
      "\n",
      "The following objects are masked from ‘package:base’:\n",
      "\n",
      "    intersect, setdiff, setequal, union\n",
      "\n",
      "Warning message:\n",
      "“package ‘bindrcpp’ was built under R version 3.2.5”"
     ]
    },
    {
     "data": {
      "text/html": [
       "<table>\n",
       "<thead><tr><th scope=col>country</th><th scope=col>continent</th><th scope=col>year</th><th scope=col>lifeExp</th><th scope=col>pop</th><th scope=col>gdpPercap</th></tr></thead>\n",
       "<tbody>\n",
       "\t<tr><td>China        </td><td>Asia         </td><td>2007         </td><td>72.961       </td><td>1318683096   </td><td> 4959.115    </td></tr>\n",
       "\t<tr><td>India        </td><td>Asia         </td><td>2007         </td><td>64.698       </td><td>1110396331   </td><td> 2452.210    </td></tr>\n",
       "\t<tr><td>United States</td><td>Americas     </td><td>2007         </td><td>78.242       </td><td> 301139947   </td><td>42951.653    </td></tr>\n",
       "\t<tr><td>Indonesia    </td><td>Asia         </td><td>2007         </td><td>70.650       </td><td> 223547000   </td><td> 3540.652    </td></tr>\n",
       "\t<tr><td>Brazil       </td><td>Americas     </td><td>2007         </td><td>72.390       </td><td> 190010647   </td><td> 9065.801    </td></tr>\n",
       "\t<tr><td>Pakistan     </td><td>Asia         </td><td>2007         </td><td>65.483       </td><td> 169270617   </td><td> 2605.948    </td></tr>\n",
       "</tbody>\n",
       "</table>\n"
      ],
      "text/latex": [
       "\\begin{tabular}{r|llllll}\n",
       " country & continent & year & lifeExp & pop & gdpPercap\\\\\n",
       "\\hline\n",
       "\t China         & Asia          & 2007          & 72.961        & 1318683096    &  4959.115    \\\\\n",
       "\t India         & Asia          & 2007          & 64.698        & 1110396331    &  2452.210    \\\\\n",
       "\t United States & Americas      & 2007          & 78.242        &  301139947    & 42951.653    \\\\\n",
       "\t Indonesia     & Asia          & 2007          & 70.650        &  223547000    &  3540.652    \\\\\n",
       "\t Brazil        & Americas      & 2007          & 72.390        &  190010647    &  9065.801    \\\\\n",
       "\t Pakistan      & Asia          & 2007          & 65.483        &  169270617    &  2605.948    \\\\\n",
       "\\end{tabular}\n"
      ],
      "text/markdown": [
       "\n",
       "country | continent | year | lifeExp | pop | gdpPercap | \n",
       "|---|---|---|---|---|---|\n",
       "| China         | Asia          | 2007          | 72.961        | 1318683096    |  4959.115     | \n",
       "| India         | Asia          | 2007          | 64.698        | 1110396331    |  2452.210     | \n",
       "| United States | Americas      | 2007          | 78.242        |  301139947    | 42951.653     | \n",
       "| Indonesia     | Asia          | 2007          | 70.650        |  223547000    |  3540.652     | \n",
       "| Brazil        | Americas      | 2007          | 72.390        |  190010647    |  9065.801     | \n",
       "| Pakistan      | Asia          | 2007          | 65.483        |  169270617    |  2605.948     | \n",
       "\n",
       "\n"
      ],
      "text/plain": [
       "  country       continent year lifeExp pop        gdpPercap\n",
       "1 China         Asia      2007 72.961  1318683096  4959.115\n",
       "2 India         Asia      2007 64.698  1110396331  2452.210\n",
       "3 United States Americas  2007 78.242   301139947 42951.653\n",
       "4 Indonesia     Asia      2007 70.650   223547000  3540.652\n",
       "5 Brazil        Americas  2007 72.390   190010647  9065.801\n",
       "6 Pakistan      Asia      2007 65.483   169270617  2605.948"
      ]
     },
     "metadata": {},
     "output_type": "display_data"
    }
   ],
   "source": [
    "# Example 1\n",
    "library(gapminder)\n",
    "library(dplyr)\n",
    "data(gapminder)\n",
    "\n",
    "gapminder %>% \n",
    "filter(year==2007) %>%\n",
    "arrange(desc(pop)) %>% \n",
    "head "
   ]
  },
  {
   "cell_type": "code",
   "execution_count": null,
   "metadata": {
    "collapsed": true
   },
   "outputs": [],
   "source": []
  }
 ],
 "metadata": {
  "kernelspec": {
   "display_name": "R",
   "language": "R",
   "name": "ir"
  },
  "language_info": {
   "codemirror_mode": "r",
   "file_extension": ".r",
   "mimetype": "text/x-r-source",
   "name": "R",
   "pygments_lexer": "r",
   "version": "3.2.4"
  }
 },
 "nbformat": 4,
 "nbformat_minor": 0
}
